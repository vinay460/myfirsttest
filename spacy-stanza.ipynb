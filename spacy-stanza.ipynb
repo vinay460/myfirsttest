{
 "cells": [
  {
   "cell_type": "code",
   "execution_count": 1,
   "metadata": {},
   "outputs": [],
   "source": [
    "import stanza\n",
    "from spacy_stanza import StanzaLanguage\n",
    "import spacy\n",
    "\n"
   ]
  },
  {
   "cell_type": "code",
   "execution_count": 15,
   "metadata": {},
   "outputs": [
    {
     "name": "stderr",
     "output_type": "stream",
     "text": [
      "2020-05-29 21:31:55 INFO: Loading these models for language: en (English):\n",
      "=========================\n",
      "| Processor | Package   |\n",
      "-------------------------\n",
      "| tokenize  | ewt       |\n",
      "| ner       | ontonotes |\n",
      "=========================\n",
      "\n",
      "2020-05-29 21:31:55 INFO: Use device: cpu\n",
      "2020-05-29 21:31:55 INFO: Loading: tokenize\n",
      "2020-05-29 21:31:55 INFO: Loading: ner\n",
      "2020-05-29 21:31:57 INFO: Done loading processors!\n"
     ]
    }
   ],
   "source": [
    "snlp = stanza.Pipeline(lang=\"en\",processors='tokenize,ner')\n",
    "nlp = StanzaLanguage(snlp)\n",
    "nlp.to_disk(\"./stanza-spacy-model\")"
   ]
  },
  {
   "cell_type": "code",
   "execution_count": 16,
   "metadata": {},
   "outputs": [
    {
     "name": "stdout",
     "output_type": "stream",
     "text": [
      "['PERSON']\n"
     ]
    }
   ],
   "source": [
    "snlp = stanza.Pipeline(lang=\"en\",processors='tokenize,ner',verbose=False)\n",
    "nlp = spacy.load(\"./stanza-spacy-model\", snlp=snlp)\n",
    "\n",
    "\n"
   ]
  },
  {
   "cell_type": "code",
   "execution_count": 17,
   "metadata": {},
   "outputs": [
    {
     "name": "stdout",
     "output_type": "stream",
     "text": [
      "['PERSON']\n"
     ]
    }
   ],
   "source": [
    "a=(\"krishna\")\n",
    "doc = nlp(a.capitalize())\n",
    "k=[( X.label_) for X in doc.ents]\n",
    "print(k)\n"
   ]
  },
  {
   "cell_type": "code",
   "execution_count": null,
   "metadata": {},
   "outputs": [],
   "source": []
  }
 ],
 "metadata": {
  "kernelspec": {
   "display_name": "Python 3",
   "language": "python",
   "name": "python3"
  },
  "language_info": {
   "codemirror_mode": {
    "name": "ipython",
    "version": 3
   },
   "file_extension": ".py",
   "mimetype": "text/x-python",
   "name": "python",
   "nbconvert_exporter": "python",
   "pygments_lexer": "ipython3",
   "version": "3.7.4"
  }
 },
 "nbformat": 4,
 "nbformat_minor": 2
}
